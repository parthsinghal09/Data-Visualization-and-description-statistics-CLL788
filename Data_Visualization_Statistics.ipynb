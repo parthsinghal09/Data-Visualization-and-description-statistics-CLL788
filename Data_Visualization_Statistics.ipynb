{
 "cells": [
  {
   "cell_type": "code",
   "execution_count": 1,
   "metadata": {},
   "outputs": [],
   "source": [
    "#I have used pandas to read the data files\n",
    "#I have used numpy for mathematical calculations\n",
    "#I have use matplotlib for plotting purposes\n",
    "import pandas as pd\n",
    "import numpy as np \n",
    "import matplotlib.pyplot as plt"
   ]
  },
  {
   "cell_type": "code",
   "execution_count": 2,
   "metadata": {},
   "outputs": [],
   "source": [
    "path1 = \"data_1.xlsx\"\n",
    "path2 = \"data_3.xlsx\""
   ]
  },
  {
   "cell_type": "code",
   "execution_count": 3,
   "metadata": {},
   "outputs": [],
   "source": [
    "df1 = pd.read_excel(path1)"
   ]
  },
  {
   "cell_type": "code",
   "execution_count": 4,
   "metadata": {},
   "outputs": [],
   "source": [
    "df3 = pd.read_excel(path2)"
   ]
  },
  {
   "cell_type": "code",
   "execution_count": 5,
   "metadata": {},
   "outputs": [
    {
     "data": {
      "text/html": [
       "<div>\n",
       "<style scoped>\n",
       "    .dataframe tbody tr th:only-of-type {\n",
       "        vertical-align: middle;\n",
       "    }\n",
       "\n",
       "    .dataframe tbody tr th {\n",
       "        vertical-align: top;\n",
       "    }\n",
       "\n",
       "    .dataframe thead th {\n",
       "        text-align: right;\n",
       "    }\n",
       "</style>\n",
       "<table border=\"1\" class=\"dataframe\">\n",
       "  <thead>\n",
       "    <tr style=\"text-align: right;\">\n",
       "      <th></th>\n",
       "      <th>x</th>\n",
       "      <th>y</th>\n",
       "    </tr>\n",
       "  </thead>\n",
       "  <tbody>\n",
       "    <tr>\n",
       "      <th>0</th>\n",
       "      <td>5.621808</td>\n",
       "      <td>3.739319</td>\n",
       "    </tr>\n",
       "    <tr>\n",
       "      <th>1</th>\n",
       "      <td>4.391813</td>\n",
       "      <td>4.685433</td>\n",
       "    </tr>\n",
       "    <tr>\n",
       "      <th>2</th>\n",
       "      <td>5.240213</td>\n",
       "      <td>3.926368</td>\n",
       "    </tr>\n",
       "    <tr>\n",
       "      <th>3</th>\n",
       "      <td>5.678720</td>\n",
       "      <td>4.957781</td>\n",
       "    </tr>\n",
       "    <tr>\n",
       "      <th>4</th>\n",
       "      <td>5.499456</td>\n",
       "      <td>6.402008</td>\n",
       "    </tr>\n",
       "  </tbody>\n",
       "</table>\n",
       "</div>"
      ],
      "text/plain": [
       "          x         y\n",
       "0  5.621808  3.739319\n",
       "1  4.391813  4.685433\n",
       "2  5.240213  3.926368\n",
       "3  5.678720  4.957781\n",
       "4  5.499456  6.402008"
      ]
     },
     "execution_count": 5,
     "metadata": {},
     "output_type": "execute_result"
    }
   ],
   "source": [
    "#data1\n",
    "df1.head()"
   ]
  },
  {
   "cell_type": "code",
   "execution_count": 6,
   "metadata": {},
   "outputs": [
    {
     "data": {
      "text/html": [
       "<div>\n",
       "<style scoped>\n",
       "    .dataframe tbody tr th:only-of-type {\n",
       "        vertical-align: middle;\n",
       "    }\n",
       "\n",
       "    .dataframe tbody tr th {\n",
       "        vertical-align: top;\n",
       "    }\n",
       "\n",
       "    .dataframe thead th {\n",
       "        text-align: right;\n",
       "    }\n",
       "</style>\n",
       "<table border=\"1\" class=\"dataframe\">\n",
       "  <thead>\n",
       "    <tr style=\"text-align: right;\">\n",
       "      <th></th>\n",
       "      <th>x</th>\n",
       "      <th>y</th>\n",
       "    </tr>\n",
       "  </thead>\n",
       "  <tbody>\n",
       "    <tr>\n",
       "      <th>0</th>\n",
       "      <td>4.792464</td>\n",
       "      <td>5.465294</td>\n",
       "    </tr>\n",
       "    <tr>\n",
       "      <th>1</th>\n",
       "      <td>4.495052</td>\n",
       "      <td>4.089470</td>\n",
       "    </tr>\n",
       "    <tr>\n",
       "      <th>2</th>\n",
       "      <td>5.161569</td>\n",
       "      <td>5.407030</td>\n",
       "    </tr>\n",
       "    <tr>\n",
       "      <th>3</th>\n",
       "      <td>6.425300</td>\n",
       "      <td>6.453381</td>\n",
       "    </tr>\n",
       "    <tr>\n",
       "      <th>4</th>\n",
       "      <td>4.888931</td>\n",
       "      <td>4.667882</td>\n",
       "    </tr>\n",
       "  </tbody>\n",
       "</table>\n",
       "</div>"
      ],
      "text/plain": [
       "          x         y\n",
       "0  4.792464  5.465294\n",
       "1  4.495052  4.089470\n",
       "2  5.161569  5.407030\n",
       "3  6.425300  6.453381\n",
       "4  4.888931  4.667882"
      ]
     },
     "execution_count": 6,
     "metadata": {},
     "output_type": "execute_result"
    }
   ],
   "source": [
    "#data3\n",
    "df3.head()"
   ]
  },
  {
   "cell_type": "code",
   "execution_count": 7,
   "metadata": {},
   "outputs": [],
   "source": [
    "#x in data1\n",
    "l_x1 = list(df1['x'])"
   ]
  },
  {
   "cell_type": "code",
   "execution_count": 8,
   "metadata": {},
   "outputs": [],
   "source": [
    "#y in data1\n",
    "l_y1 = list(df1['y'])"
   ]
  },
  {
   "cell_type": "code",
   "execution_count": 9,
   "metadata": {},
   "outputs": [],
   "source": [
    "#x in data3\n",
    "l_x3 = list(df3['x'])"
   ]
  },
  {
   "cell_type": "code",
   "execution_count": 10,
   "metadata": {},
   "outputs": [],
   "source": [
    "#y in data3\n",
    "l_y3 = list(df3['y'])"
   ]
  },
  {
   "cell_type": "markdown",
   "metadata": {},
   "source": [
    "# Scatter Plots"
   ]
  },
  {
   "cell_type": "code",
   "execution_count": 11,
   "metadata": {},
   "outputs": [
    {
     "data": {
      "image/png": "[encoded data removed]",
      "text/plain": [
       "<Figure size 720x720 with 1 Axes>"
      ]
     },
     "metadata": {
      "needs_background": "light"
     },
     "output_type": "display_data"
    }
   ],
   "source": [
    "fig = plt.figure(figsize = (10, 10))\n",
    "plt.scatter(l_x1, l_y1, s = 1, c = \"blue\")  \n",
    "plt.xlabel(\"x\")\n",
    "plt.ylabel(\"y\")\n",
    "plt.title(\"data1\")\n",
    "plt.show()"
   ]
  },
  {
   "cell_type": "code",
   "execution_count": 12,
   "metadata": {},
   "outputs": [
    {
     "data": {
      "image/png": "[encoded data removed]",
      "text/plain": [
       "<Figure size 720x720 with 1 Axes>"
      ]
     },
     "metadata": {
      "needs_background": "light"
     },
     "output_type": "display_data"
    }
   ],
   "source": [
    "fig = plt.figure(figsize = (10, 10))\n",
    "plt.scatter(l_x3, l_y3, s = 1, c = \"red\")  \n",
    "plt.xlabel(\"x\")\n",
    "plt.ylabel(\"y\")\n",
    "plt.title(\"data3\")\n",
    "plt.show()"
   ]
  },
  {
   "cell_type": "markdown",
   "metadata": {},
   "source": [
    "# Histograms"
   ]
  },
  {
   "cell_type": "code",
   "execution_count": 13,
   "metadata": {},
   "outputs": [],
   "source": [
    "l_y1s = sorted(l_y1)"
   ]
  },
  {
   "cell_type": "code",
   "execution_count": 14,
   "metadata": {},
   "outputs": [
    {
     "data": {
      "text/plain": [
       "2.181180188540186"
      ]
     },
     "execution_count": 14,
     "metadata": {},
     "output_type": "execute_result"
    }
   ],
   "source": [
    "l_y1s[0]"
   ]
  },
  {
   "cell_type": "code",
   "execution_count": 15,
   "metadata": {},
   "outputs": [
    {
     "data": {
      "text/plain": [
       "8.190108845837583"
      ]
     },
     "execution_count": 15,
     "metadata": {},
     "output_type": "execute_result"
    }
   ],
   "source": [
    "l_y1s[-1]"
   ]
  },
  {
   "cell_type": "code",
   "execution_count": 16,
   "metadata": {},
   "outputs": [],
   "source": [
    "l_x1s = sorted(l_x1)"
   ]
  },
  {
   "cell_type": "code",
   "execution_count": 17,
   "metadata": {},
   "outputs": [
    {
     "data": {
      "text/plain": [
       "2.373637875540727"
      ]
     },
     "execution_count": 17,
     "metadata": {},
     "output_type": "execute_result"
    }
   ],
   "source": [
    "l_x1s[0]"
   ]
  },
  {
   "cell_type": "code",
   "execution_count": 18,
   "metadata": {},
   "outputs": [
    {
     "data": {
      "text/plain": [
       "8.117044703768336"
      ]
     },
     "execution_count": 18,
     "metadata": {},
     "output_type": "execute_result"
    }
   ],
   "source": [
    "l_x1s[-1]"
   ]
  },
  {
   "cell_type": "code",
   "execution_count": 19,
   "metadata": {},
   "outputs": [],
   "source": [
    "l_y3s = sorted(l_y3)"
   ]
  },
  {
   "cell_type": "code",
   "execution_count": 20,
   "metadata": {},
   "outputs": [
    {
     "data": {
      "text/plain": [
       "-1.004100360593079"
      ]
     },
     "execution_count": 20,
     "metadata": {},
     "output_type": "execute_result"
    }
   ],
   "source": [
    "l_y3s[0]"
   ]
  },
  {
   "cell_type": "code",
   "execution_count": 21,
   "metadata": {},
   "outputs": [
    {
     "data": {
      "text/plain": [
       "10.58925243952102"
      ]
     },
     "execution_count": 21,
     "metadata": {},
     "output_type": "execute_result"
    }
   ],
   "source": [
    "l_y3s[-1]"
   ]
  },
  {
   "cell_type": "code",
   "execution_count": 22,
   "metadata": {},
   "outputs": [],
   "source": [
    "l_x3s = sorted(l_x3)"
   ]
  },
  {
   "cell_type": "code",
   "execution_count": 23,
   "metadata": {},
   "outputs": [
    {
     "data": {
      "text/plain": [
       "-1.458402520742969"
      ]
     },
     "execution_count": 23,
     "metadata": {},
     "output_type": "execute_result"
    }
   ],
   "source": [
    "l_x3s[0]"
   ]
  },
  {
   "cell_type": "code",
   "execution_count": 24,
   "metadata": {},
   "outputs": [
    {
     "data": {
      "text/plain": [
       "12.2670245277286"
      ]
     },
     "execution_count": 24,
     "metadata": {},
     "output_type": "execute_result"
    }
   ],
   "source": [
    "l_x3s[-1]"
   ]
  },
  {
   "cell_type": "code",
   "execution_count": 25,
   "metadata": {},
   "outputs": [],
   "source": [
    "biny1 = [2, 2.5, 3, 3.5, 4, 4.5, 5, 5.5, 6, 6.5, 7, 7.5, 8, 8.5, 9]\n",
    "binx3 = [-2, -1.5, -1, -0.5, 0, 0.5, 1, 1.5, 2, 2.5, 3, 3.5, 4, 4.5, 5, 5.5, 6, 6.5, 7, 7.5, 8, 8.5, 9, 9.5, 10, 10.5, 11, 11.5,\n",
    "        12, 12.5, 13]"
   ]
  },
  {
   "cell_type": "code",
   "execution_count": 26,
   "metadata": {},
   "outputs": [],
   "source": [
    "label1 = []"
   ]
  },
  {
   "cell_type": "code",
   "execution_count": 27,
   "metadata": {},
   "outputs": [
    {
     "data": {
      "image/png": "[encoded data removed]",
      "text/plain": [
       "<Figure size 720x720 with 1 Axes>"
      ]
     },
     "metadata": {
      "needs_background": "light"
     },
     "output_type": "display_data"
    }
   ],
   "source": [
    "fig = plt.figure(figsize = (10, 10))\n",
    "nx1, binsx1, patchesx1 = plt.hist(l_x1s, biny1, histtype = \"bar\", color = \"blue\", alpha = 0.5)\n",
    "plt.grid(color = \"white\", axis = \"x\")\n",
    "plt.xticks(biny1)\n",
    "for xcor, f in enumerate(nx1):\n",
    "    xcor1 = biny1[xcor] + 0.15\n",
    "    plt.text(xcor1, f + 0.5, int(f))\n",
    "plt.title(\"data1_x\")\n",
    "plt.show()"
   ]
  },
  {
   "cell_type": "code",
   "execution_count": 28,
   "metadata": {},
   "outputs": [
    {
     "data": {
      "image/png": "[encoded data removed]",
      "text/plain": [
       "<Figure size 720x720 with 1 Axes>"
      ]
     },
     "metadata": {
      "needs_background": "light"
     },
     "output_type": "display_data"
    }
   ],
   "source": [
    "fig = plt.figure(figsize = (10, 10))\n",
    "ny1, binsy1, patchesy1 = plt.hist(l_y1s, biny1, histtype = \"bar\", color = \"red\", alpha = 0.5)\n",
    "plt.grid(color = \"white\", axis = \"x\")\n",
    "plt.xticks(biny1)\n",
    "for xcor, f in enumerate(ny1):\n",
    "    xcor1 = biny1[xcor] + 0.15\n",
    "    plt.text(xcor1, f + 0.5, int(f))\n",
    "plt.title(\"data1_y\")\n",
    "plt.show()"
   ]
  },
  {
   "cell_type": "code",
   "execution_count": 29,
   "metadata": {},
   "outputs": [
    {
     "data": {
      "image/png": "[encoded data removed]",
      "text/plain": [
       "<Figure size 1296x720 with 1 Axes>"
      ]
     },
     "metadata": {
      "needs_background": "light"
     },
     "output_type": "display_data"
    }
   ],
   "source": [
    "fig = plt.figure(figsize = (18, 10))\n",
    "nx3, binsx3, patchesx3 = plt.hist(l_x3s, binx3, histtype = \"bar\", color = \"blue\", alpha = 0.5)\n",
    "plt.grid(color = \"white\", axis = \"x\")\n",
    "plt.xticks(binx3)\n",
    "for xcor, f in enumerate(nx3):\n",
    "    xcor1 = binx3[xcor] + 0.15\n",
    "    plt.text(xcor1, f + 0.5, int(f))\n",
    "plt.title(\"data3_x\")\n",
    "plt.show()"
   ]
  },
  {
   "cell_type": "code",
   "execution_count": 30,
   "metadata": {},
   "outputs": [
    {
     "data": {
      "image/png": "[encoded data removed]",
      "text/plain": [
       "<Figure size 1296x720 with 1 Axes>"
      ]
     },
     "metadata": {
      "needs_background": "light"
     },
     "output_type": "display_data"
    }
   ],
   "source": [
    "fig = plt.figure(figsize = (18, 10))\n",
    "ny3, binsy3, patchesy3 = plt.hist(l_y3s, binx3, histtype = \"bar\", color = \"red\", alpha = 0.5)\n",
    "plt.grid(color = \"white\", axis = \"x\")\n",
    "plt.xticks(binx3)\n",
    "for xcor, f in enumerate(ny3):\n",
    "    xcor1 = binx3[xcor] + 0.15\n",
    "    plt.text(xcor1, f + 0.5, int(f))\n",
    "plt.title(\"data3_y\")\n",
    "plt.show()"
   ]
  },
  {
   "cell_type": "markdown",
   "metadata": {},
   "source": [
    "# Histogram"
   ]
  },
  {
   "cell_type": "code",
   "execution_count": 31,
   "metadata": {},
   "outputs": [
    {
     "data": {
      "text/plain": [
       "Text(0, 0.5, 'Counts')"
      ]
     },
     "execution_count": 31,
     "metadata": {},
     "output_type": "execute_result"
    },
    {
     "data": {
      "image/png": "[encoded data removed]",
      "text/plain": [
       "<Figure size 720x720 with 2 Axes>"
      ]
     },
     "metadata": {
      "needs_background": "light"
     },
     "output_type": "display_data"
    }
   ],
   "source": [
    "fig = plt.figure(figsize = (10, 10))\n",
    "plt.hist2d(l_x1, l_y1, bins = 50)\n",
    "plt.xlabel('x1')\n",
    "plt.ylabel('y1')\n",
    "plt.title(\"data1 heatmap\")\n",
    "cobar = plt.colorbar()\n",
    "cobar.ax.set_ylabel('Counts')"
   ]
  },
  {
   "cell_type": "code",
   "execution_count": 32,
   "metadata": {},
   "outputs": [
    {
     "data": {
      "text/plain": [
       "Text(0, 0.5, 'Counts')"
      ]
     },
     "execution_count": 32,
     "metadata": {},
     "output_type": "execute_result"
    },
    {
     "data": {
      "image/png": "[encoded data removed]",
      "text/plain": [
       "<Figure size 720x720 with 2 Axes>"
      ]
     },
     "metadata": {
      "needs_background": "light"
     },
     "output_type": "display_data"
    }
   ],
   "source": [
    "fig = plt.figure(figsize = (10, 10))\n",
    "plt.hist2d(l_x3, l_y3, bins = 50)\n",
    "plt.xlabel('x3')\n",
    "plt.ylabel('y3')\n",
    "plt.title(\"data3 heatmap\")\n",
    "cobar = plt.colorbar()\n",
    "cobar.ax.set_ylabel('Counts')"
   ]
  },
  {
   "cell_type": "markdown",
   "metadata": {},
   "source": [
    "# Boxplot"
   ]
  },
  {
   "cell_type": "code",
   "execution_count": 33,
   "metadata": {},
   "outputs": [
    {
     "data": {
      "image/png": "[encoded data removed]",
      "text/plain": [
       "<Figure size 720x720 with 1 Axes>"
      ]
     },
     "metadata": {
      "needs_background": "light"
     },
     "output_type": "display_data"
    }
   ],
   "source": [
    "#data1\n",
    "#left side box is of x\n",
    "#right side box is of y\n",
    "fig = plt.figure(figsize = (10, 10))\n",
    "plt.boxplot([l_x1, l_y1]) \n",
    "plt.show() "
   ]
  },
  {
   "cell_type": "code",
   "execution_count": 34,
   "metadata": {},
   "outputs": [
    {
     "data": {
      "image/png": "[encoded data removed]",
      "text/plain": [
       "<Figure size 720x720 with 1 Axes>"
      ]
     },
     "metadata": {
      "needs_background": "light"
     },
     "output_type": "display_data"
    }
   ],
   "source": [
    "#data3\n",
    "#left side box is of x\n",
    "#right side box is of y\n",
    "fig = plt.figure(figsize = (10, 10))\n",
    "plt.boxplot([l_x3, l_y3]) \n",
    "plt.show() "
   ]
  },
  {
   "cell_type": "markdown",
   "metadata": {},
   "source": [
    "# Statistics"
   ]
  },
  {
   "cell_type": "code",
   "execution_count": 35,
   "metadata": {},
   "outputs": [
    {
     "data": {
      "text/html": [
       "<div>\n",
       "<style scoped>\n",
       "    .dataframe tbody tr th:only-of-type {\n",
       "        vertical-align: middle;\n",
       "    }\n",
       "\n",
       "    .dataframe tbody tr th {\n",
       "        vertical-align: top;\n",
       "    }\n",
       "\n",
       "    .dataframe thead th {\n",
       "        text-align: right;\n",
       "    }\n",
       "</style>\n",
       "<table border=\"1\" class=\"dataframe\">\n",
       "  <thead>\n",
       "    <tr style=\"text-align: right;\">\n",
       "      <th></th>\n",
       "      <th>x</th>\n",
       "      <th>y</th>\n",
       "    </tr>\n",
       "  </thead>\n",
       "  <tbody>\n",
       "    <tr>\n",
       "      <th>count</th>\n",
       "      <td>500.000000</td>\n",
       "      <td>500.000000</td>\n",
       "    </tr>\n",
       "    <tr>\n",
       "      <th>mean</th>\n",
       "      <td>4.939743</td>\n",
       "      <td>5.042984</td>\n",
       "    </tr>\n",
       "    <tr>\n",
       "      <th>std</th>\n",
       "      <td>0.986803</td>\n",
       "      <td>1.008197</td>\n",
       "    </tr>\n",
       "    <tr>\n",
       "      <th>min</th>\n",
       "      <td>2.373638</td>\n",
       "      <td>2.181180</td>\n",
       "    </tr>\n",
       "    <tr>\n",
       "      <th>25%</th>\n",
       "      <td>4.303987</td>\n",
       "      <td>4.331464</td>\n",
       "    </tr>\n",
       "    <tr>\n",
       "      <th>50%</th>\n",
       "      <td>4.924278</td>\n",
       "      <td>5.074768</td>\n",
       "    </tr>\n",
       "    <tr>\n",
       "      <th>75%</th>\n",
       "      <td>5.607214</td>\n",
       "      <td>5.682380</td>\n",
       "    </tr>\n",
       "    <tr>\n",
       "      <th>max</th>\n",
       "      <td>8.117045</td>\n",
       "      <td>8.190109</td>\n",
       "    </tr>\n",
       "  </tbody>\n",
       "</table>\n",
       "</div>"
      ],
      "text/plain": [
       "                x           y\n",
       "count  500.000000  500.000000\n",
       "mean     4.939743    5.042984\n",
       "std      0.986803    1.008197\n",
       "min      2.373638    2.181180\n",
       "25%      4.303987    4.331464\n",
       "50%      4.924278    5.074768\n",
       "75%      5.607214    5.682380\n",
       "max      8.117045    8.190109"
      ]
     },
     "execution_count": 35,
     "metadata": {},
     "output_type": "execute_result"
    }
   ],
   "source": [
    "df1.describe()"
   ]
  },
  {
   "cell_type": "code",
   "execution_count": 36,
   "metadata": {},
   "outputs": [
    {
     "data": {
      "text/plain": [
       "x    4.924278\n",
       "y    5.074768\n",
       "dtype: float64"
      ]
     },
     "execution_count": 36,
     "metadata": {},
     "output_type": "execute_result"
    }
   ],
   "source": [
    "df1.median()"
   ]
  },
  {
   "cell_type": "code",
   "execution_count": 37,
   "metadata": {},
   "outputs": [
    {
     "data": {
      "text/html": [
       "<div>\n",
       "<style scoped>\n",
       "    .dataframe tbody tr th:only-of-type {\n",
       "        vertical-align: middle;\n",
       "    }\n",
       "\n",
       "    .dataframe tbody tr th {\n",
       "        vertical-align: top;\n",
       "    }\n",
       "\n",
       "    .dataframe thead th {\n",
       "        text-align: right;\n",
       "    }\n",
       "</style>\n",
       "<table border=\"1\" class=\"dataframe\">\n",
       "  <thead>\n",
       "    <tr style=\"text-align: right;\">\n",
       "      <th></th>\n",
       "      <th>x</th>\n",
       "      <th>y</th>\n",
       "    </tr>\n",
       "  </thead>\n",
       "  <tbody>\n",
       "    <tr>\n",
       "      <th>count</th>\n",
       "      <td>500.000000</td>\n",
       "      <td>500.000000</td>\n",
       "    </tr>\n",
       "    <tr>\n",
       "      <th>mean</th>\n",
       "      <td>5.082468</td>\n",
       "      <td>4.952896</td>\n",
       "    </tr>\n",
       "    <tr>\n",
       "      <th>std</th>\n",
       "      <td>1.631735</td>\n",
       "      <td>1.623194</td>\n",
       "    </tr>\n",
       "    <tr>\n",
       "      <th>min</th>\n",
       "      <td>-1.458403</td>\n",
       "      <td>-1.004100</td>\n",
       "    </tr>\n",
       "    <tr>\n",
       "      <th>25%</th>\n",
       "      <td>4.318981</td>\n",
       "      <td>4.218101</td>\n",
       "    </tr>\n",
       "    <tr>\n",
       "      <th>50%</th>\n",
       "      <td>5.054875</td>\n",
       "      <td>4.978847</td>\n",
       "    </tr>\n",
       "    <tr>\n",
       "      <th>75%</th>\n",
       "      <td>5.891603</td>\n",
       "      <td>5.782668</td>\n",
       "    </tr>\n",
       "    <tr>\n",
       "      <th>max</th>\n",
       "      <td>12.267025</td>\n",
       "      <td>10.589252</td>\n",
       "    </tr>\n",
       "  </tbody>\n",
       "</table>\n",
       "</div>"
      ],
      "text/plain": [
       "                x           y\n",
       "count  500.000000  500.000000\n",
       "mean     5.082468    4.952896\n",
       "std      1.631735    1.623194\n",
       "min     -1.458403   -1.004100\n",
       "25%      4.318981    4.218101\n",
       "50%      5.054875    4.978847\n",
       "75%      5.891603    5.782668\n",
       "max     12.267025   10.589252"
      ]
     },
     "execution_count": 37,
     "metadata": {},
     "output_type": "execute_result"
    }
   ],
   "source": [
    "df3.describe()"
   ]
  },
  {
   "cell_type": "code",
   "execution_count": 38,
   "metadata": {},
   "outputs": [
    {
     "data": {
      "text/plain": [
       "x    5.054875\n",
       "y    4.978847\n",
       "dtype: float64"
      ]
     },
     "execution_count": 38,
     "metadata": {},
     "output_type": "execute_result"
    }
   ],
   "source": [
    "df3.median()"
   ]
  },
  {
   "cell_type": "code",
   "execution_count": 39,
   "metadata": {},
   "outputs": [
    {
     "data": {
      "text/plain": [
       "(4.893348, 5.138336000000001)"
      ]
     },
     "execution_count": 39,
     "metadata": {},
     "output_type": "execute_result"
    }
   ],
   "source": [
    "#mode = 3*media - 2*mean\n",
    "#data1\n",
    "mode_df1x = 3*4.924278 - 2*4.939743\n",
    "mode_df1y = 3*5.074768 - 2*5.042984\n",
    "mode_df1x, mode_df1y"
   ]
  },
  {
   "cell_type": "code",
   "execution_count": 40,
   "metadata": {},
   "outputs": [
    {
     "data": {
      "text/plain": [
       "(4.999689, 5.030749)"
      ]
     },
     "execution_count": 40,
     "metadata": {},
     "output_type": "execute_result"
    }
   ],
   "source": [
    "#mode = 3*media - 2*mean\n",
    "#data3\n",
    "mode_df3x = 3*5.054875 - 2*5.082468\n",
    "mode_df3y = 3*4.978847 - 2*4.952896\n",
    "mode_df3x, mode_df3y"
   ]
  },
  {
   "cell_type": "code",
   "execution_count": 41,
   "metadata": {},
   "outputs": [],
   "source": [
    "from scipy.stats import kurtosis"
   ]
  },
  {
   "cell_type": "code",
   "execution_count": 42,
   "metadata": {},
   "outputs": [
    {
     "data": {
      "text/plain": [
       "(-0.20393248917210194, 0.09080227613137248)"
      ]
     },
     "execution_count": 42,
     "metadata": {},
     "output_type": "execute_result"
    }
   ],
   "source": [
    "#kurtosis for data1\n",
    "kx1 = kurtosis(l_x1)\n",
    "ky1 = kurtosis(l_y1)\n",
    "kx1, ky1"
   ]
  },
  {
   "cell_type": "code",
   "execution_count": 43,
   "metadata": {},
   "outputs": [
    {
     "data": {
      "text/plain": [
       "(3.300987704861157, 2.4177973153847265)"
      ]
     },
     "execution_count": 43,
     "metadata": {},
     "output_type": "execute_result"
    }
   ],
   "source": [
    "#kurtosis for data3\n",
    "kx3 = kurtosis(l_x3)\n",
    "ky3 = kurtosis(l_y3)\n",
    "kx3, ky3"
   ]
  },
  {
   "cell_type": "code",
   "execution_count": 44,
   "metadata": {},
   "outputs": [],
   "source": [
    "from scipy.stats import skew "
   ]
  },
  {
   "cell_type": "code",
   "execution_count": 45,
   "metadata": {},
   "outputs": [
    {
     "data": {
      "text/plain": [
       "(-0.0013613988672289989, -0.12074949274828889)"
      ]
     },
     "execution_count": 45,
     "metadata": {},
     "output_type": "execute_result"
    }
   ],
   "source": [
    "#skewness for data1\n",
    "sx1 = skew(l_x1)\n",
    "sy1 = skew(l_y1)\n",
    "sx1, sy1"
   ]
  },
  {
   "cell_type": "code",
   "execution_count": 46,
   "metadata": {},
   "outputs": [
    {
     "data": {
      "text/plain": [
       "(0.04139808563058585, -0.08255310826792216)"
      ]
     },
     "execution_count": 46,
     "metadata": {},
     "output_type": "execute_result"
    }
   ],
   "source": [
    "#skewness for data1\n",
    "sx3 = skew(l_x3)\n",
    "sy3 = skew(l_y3)\n",
    "sx3, sy3"
   ]
  },
  {
   "cell_type": "markdown",
   "metadata": {},
   "source": [
    "# Outliers"
   ]
  },
  {
   "cell_type": "code",
   "execution_count": 47,
   "metadata": {},
   "outputs": [],
   "source": [
    "from statsmodels import robust\n",
    "import statistics "
   ]
  },
  {
   "cell_type": "code",
   "execution_count": 48,
   "metadata": {},
   "outputs": [],
   "source": [
    "def median(x):\n",
    "    \n",
    "    xs = sorted(x)\n",
    "    \n",
    "    n = len(xs)\n",
    "    \n",
    "    if (n%2)!=0:\n",
    "        md = xs[(n + 1)/2 - 1]\n",
    "    else:\n",
    "        md = (xs[int(n/2)] + xs[int(n/2) - 1])/2\n",
    "    return md"
   ]
  },
  {
   "cell_type": "code",
   "execution_count": 49,
   "metadata": {},
   "outputs": [
    {
     "data": {
      "image/png": "[encoded data removed]",
      "text/plain": [
       "<Figure size 720x720 with 1 Axes>"
      ]
     },
     "metadata": {
      "needs_background": "light"
     },
     "output_type": "display_data"
    }
   ],
   "source": [
    "#MAD approach for data3\n",
    "xmd3 = []\n",
    "mdx3 = median(l_x3)\n",
    "for i in range(len(l_x3)):\n",
    "    xmd3.append(abs((l_x3[i] - mdx3)))\n",
    "MADx3 = median(xmd3)\n",
    "\n",
    "ymd3 = []\n",
    "mdy3 = median(l_y3)\n",
    "for i in range(len(l_y3)):\n",
    "    ymd3.append(abs((l_y3[i] - mdy3)))\n",
    "MADy3 = median(ymd3)\n",
    "\n",
    "o31 = []\n",
    "o32 = []\n",
    "on3 = []\n",
    "    \n",
    "for i in range(len(l_x3)):\n",
    "    Zmx3 = 0.6745*(l_x3[i] - mdx3)/MADx3\n",
    "    if Zmx3>3:\n",
    "        tup = (l_x3[i], l_y3[i])\n",
    "        o31.append(tup)\n",
    "        \n",
    "for i in range(len(l_y3)):\n",
    "    Zmy3 = 0.6745*(l_y3[i] - mdy3)/MADy3\n",
    "    if Zmy3>3:\n",
    "        tup = (l_x3[i], l_y3[i])\n",
    "        o32.append(tup)\n",
    "        \n",
    "o3 = []\n",
    "for i in range(len(o31)):\n",
    "    o3.append(o31[i])\n",
    "\n",
    "for i in range(len(o32)):\n",
    "    if o32[i] not in o3:\n",
    "        o3.append(o32[i])\n",
    "    \n",
    "for i in range(len(l_x3)):\n",
    "    tup = (l_x3[i], l_y3[i])\n",
    "    if tup not in o3:\n",
    "        on3.append(tup)\n",
    "\n",
    "ox3 = []\n",
    "oy3 = []\n",
    "onx3 = []\n",
    "ony3 = []\n",
    "\n",
    "for i in range(len(o3)):\n",
    "    ox3.append(o3[i][0])\n",
    "    oy3.append(o3[i][1])\n",
    "\n",
    "for i in range(len(on3)):\n",
    "    onx3.append(on3[i][0])\n",
    "    ony3.append(on3[i][1])\n",
    "    \n",
    "fig = plt.figure(figsize = (10, 10))\n",
    "plt.scatter(ox3, oy3, s = 8, c = \"red\")  \n",
    "plt.scatter(onx3, ony3, s = 3, c = \"blue\")  \n",
    "plt.show()      "
   ]
  },
  {
   "cell_type": "code",
   "execution_count": 50,
   "metadata": {},
   "outputs": [
    {
     "data": {
      "image/png": "[encoded data removed]",
      "text/plain": [
       "<Figure size 720x720 with 1 Axes>"
      ]
     },
     "metadata": {
      "needs_background": "light"
     },
     "output_type": "display_data"
    }
   ],
   "source": [
    "#standard deviation approach for data1\n",
    "meanx3 = df3[\"x\"].mean()\n",
    "stdx3 = df3[\"x\"].std()\n",
    "sxo3 = []\n",
    "sxon3 = []\n",
    "meany3 = df3[\"y\"].mean()\n",
    "stdy3 = df3[\"y\"].std()\n",
    "syo3 = []\n",
    "syon3 = []\n",
    "\n",
    "for i in range(len(l_x3)):\n",
    "    Zx3 = abs(l_x3[i] - meanx3)/stdx3\n",
    "    Zy3 = abs(l_y3[i] - meany3)/stdy3\n",
    "    if Zy3>2:\n",
    "        sxo3.append(l_x3[i])\n",
    "        syo3.append(l_y3[i])\n",
    "    else:\n",
    "        sxon3.append(l_x3[i])\n",
    "        syon3.append(l_y3[i])\n",
    "\n",
    "fig = plt.figure(figsize = (10, 10))\n",
    "plt.scatter(sxo3, syo3, s = 8, c = \"red\")  \n",
    "plt.scatter(sxon3, syon3, s = 3, c = \"blue\")\n",
    "plt.show()    "
   ]
  },
  {
   "cell_type": "code",
   "execution_count": null,
   "metadata": {},
   "outputs": [],
   "source": []
  },
  {
   "cell_type": "code",
   "execution_count": null,
   "metadata": {},
   "outputs": [],
   "source": []
  },
  {
   "cell_type": "code",
   "execution_count": null,
   "metadata": {},
   "outputs": [],
   "source": []
  },
  {
   "cell_type": "code",
   "execution_count": null,
   "metadata": {},
   "outputs": [],
   "source": []
  },
  {
   "cell_type": "code",
   "execution_count": null,
   "metadata": {},
   "outputs": [],
   "source": []
  },
  {
   "cell_type": "code",
   "execution_count": null,
   "metadata": {},
   "outputs": [],
   "source": []
  }
 ],
 "metadata": {
  "kernelspec": {
   "display_name": "Python 3",
   "language": "python",
   "name": "python3"
  },
  "language_info": {
   "codemirror_mode": {
    "name": "ipython",
    "version": 3
   },
   "file_extension": ".py",
   "mimetype": "text/x-python",
   "name": "python",
   "nbconvert_exporter": "python",
   "pygments_lexer": "ipython3",
   "version": "3.7.3"
  }
 },
 "nbformat": 4,
 "nbformat_minor": 4
}
